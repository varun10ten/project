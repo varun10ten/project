{
 "cells": [
  {
   "cell_type": "markdown",
   "id": "e9bd0ceb-ead8-4c1f-ac39-30eb606b29df",
   "metadata": {},
   "source": [
    "lookalike"
   ]
  },
  {
   "cell_type": "code",
   "execution_count": 1,
   "id": "0c34c742-3804-40fb-999c-4f0b6d357b93",
   "metadata": {},
   "outputs": [
    {
     "data": {
      "text/html": [
       "<div>\n",
       "<style scoped>\n",
       "    .dataframe tbody tr th:only-of-type {\n",
       "        vertical-align: middle;\n",
       "    }\n",
       "\n",
       "    .dataframe tbody tr th {\n",
       "        vertical-align: top;\n",
       "    }\n",
       "\n",
       "    .dataframe thead th {\n",
       "        text-align: right;\n",
       "    }\n",
       "</style>\n",
       "<table border=\"1\" class=\"dataframe\">\n",
       "  <thead>\n",
       "    <tr style=\"text-align: right;\">\n",
       "      <th></th>\n",
       "      <th>CustomerID</th>\n",
       "      <th>LookalikeCustomerID</th>\n",
       "      <th>SimilarityScore</th>\n",
       "    </tr>\n",
       "  </thead>\n",
       "  <tbody>\n",
       "    <tr>\n",
       "      <th>0</th>\n",
       "      <td>C0001</td>\n",
       "      <td>C0017</td>\n",
       "      <td>0.964993</td>\n",
       "    </tr>\n",
       "    <tr>\n",
       "      <th>1</th>\n",
       "      <td>C0002</td>\n",
       "      <td>C0007</td>\n",
       "      <td>0.902774</td>\n",
       "    </tr>\n",
       "    <tr>\n",
       "      <th>2</th>\n",
       "      <td>C0007</td>\n",
       "      <td>C0020</td>\n",
       "      <td>0.909963</td>\n",
       "    </tr>\n",
       "    <tr>\n",
       "      <th>3</th>\n",
       "      <td>C0016</td>\n",
       "      <td>C0018</td>\n",
       "      <td>0.970198</td>\n",
       "    </tr>\n",
       "    <tr>\n",
       "      <th>4</th>\n",
       "      <td>C0016</td>\n",
       "      <td>C0002</td>\n",
       "      <td>0.964993</td>\n",
       "    </tr>\n",
       "  </tbody>\n",
       "</table>\n",
       "</div>"
      ],
      "text/plain": [
       "  CustomerID LookalikeCustomerID  SimilarityScore\n",
       "0      C0001               C0017         0.964993\n",
       "1      C0002               C0007         0.902774\n",
       "2      C0007               C0020         0.909963\n",
       "3      C0016               C0018         0.970198\n",
       "4      C0016               C0002         0.964993"
      ]
     },
     "execution_count": 1,
     "metadata": {},
     "output_type": "execute_result"
    }
   ],
   "source": [
    "import pandas as pd\n",
    "from sklearn.metrics.pairwise import cosine_similarity\n",
    "from sklearn.preprocessing import OneHotEncoder\n",
    "import numpy as np\n",
    "from datetime import datetime\n",
    "\n",
    "\n",
    "customers_df = pd.read_csv(r\"C:\\Users\\varun\\Downloads\\Customers.csv\")\n",
    "products_df = pd.read_csv(r\"C:\\Users\\varun\\Downloads\\Products.csv\")\n",
    "\n",
    "\n",
    "customers_df['SignupDate'] = pd.to_datetime(customers_df['SignupDate'])\n",
    "\n",
    "encoder = OneHotEncoder(sparse_output=False)\n",
    "regions_encoded = encoder.fit_transform(customers_df[['Region']])\n",
    "\n",
    "customers_df['Region_Encoded'] = list(regions_encoded)\n",
    "\n",
    "\n",
    "customer_features = np.random.rand(len(customers_df), 10) \n",
    "\n",
    "\n",
    "similarities = cosine_similarity(customer_features)\n",
    "\n",
    "def get_top_lookalikes(similarities, customer_ids, top_n=3):\n",
    "    lookalikes = {}\n",
    "    \n",
    "    customer_ids = customer_ids.astype(str)\n",
    "    \n",
    "    for customer_id in customer_ids:\n",
    "        if isinstance(similarities, dict):\n",
    "            similarity_scores = similarities[customer_id]\n",
    "        elif isinstance(similarities, np.ndarray):\n",
    "            customer_index = int(customer_id[1:])  \n",
    "            similarity_scores = similarities[customer_index]\n",
    "        \n",
    "        similar_indices = np.argsort(similarity_scores)[::-1][1:top_n+1]\n",
    "        \n",
    "        valid_indices = [i for i in similar_indices if i < len(customer_ids)]\n",
    "        \n",
    "        similar_customers = [(customer_ids.iloc[j], similarity_scores[j]) for j in valid_indices]\n",
    "        \n",
    "        lookalikes[customer_id] = similar_customers\n",
    "\n",
    "    return lookalikes\n",
    "\n",
    "\n",
    "\n",
    "\n",
    "\n",
    "top_20_customers = customers_df['CustomerID'][:20]\n",
    "\n",
    "lookalikes = get_top_lookalikes(similarities, top_20_customers)\n",
    "\n",
    "lookalike_data = []\n",
    "for cust_id, similar_customers in lookalikes.items():\n",
    "    for similar_cust_id, score in similar_customers:\n",
    "        lookalike_data.append([cust_id, similar_cust_id, score])\n",
    "\n",
    "lookalike_df = pd.DataFrame(lookalike_data, columns=['CustomerID', 'LookalikeCustomerID', 'SimilarityScore'])\n",
    "lookalike_df.to_csv('Lookalike.csv', index=False)\n",
    "\n",
    "lookalike_df.head()\n"
   ]
  },
  {
   "cell_type": "code",
   "execution_count": 3,
   "id": "16839c20-e3a5-4366-9c15-00a7f9752d7e",
   "metadata": {},
   "outputs": [
    {
     "name": "stdout",
     "output_type": "stream",
     "text": [
      "Lookalike CSV file has been saved to C:\\Users\\varun\\Downloads\\Lookalike.csv\n"
     ]
    }
   ],
   "source": [
    "import os\n",
    "\n",
    "downloads_path = os.path.join(os.path.expanduser(\"~\"), \"Downloads\", \"Lookalike.csv\")\n",
    "\n",
    "lookalike_df.to_csv(downloads_path, index=False)\n",
    "\n",
    "print(f\"Lookalike CSV file has been saved to {downloads_path}\")\n"
   ]
  },
  {
   "cell_type": "code",
   "execution_count": null,
   "id": "4531012d-fda2-46f5-98e8-2089a4836063",
   "metadata": {},
   "outputs": [],
   "source": []
  }
 ],
 "metadata": {
  "kernelspec": {
   "display_name": "Python 3 (ipykernel)",
   "language": "python",
   "name": "python3"
  },
  "language_info": {
   "codemirror_mode": {
    "name": "ipython",
    "version": 3
   },
   "file_extension": ".py",
   "mimetype": "text/x-python",
   "name": "python",
   "nbconvert_exporter": "python",
   "pygments_lexer": "ipython3",
   "version": "3.12.8"
  }
 },
 "nbformat": 4,
 "nbformat_minor": 5
}
